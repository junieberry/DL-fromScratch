{
  "nbformat": 4,
  "nbformat_minor": 0,
  "metadata": {
    "colab": {
      "name": "XOR_gate.ipynb",
      "private_outputs": true,
      "provenance": [],
      "authorship_tag": "ABX9TyP9tel+SiIon8qqA+n8/sHt",
      "include_colab_link": true
    },
    "kernelspec": {
      "name": "python3",
      "display_name": "Python 3"
    }
  },
  "cells": [
    {
      "cell_type": "markdown",
      "metadata": {
        "id": "view-in-github",
        "colab_type": "text"
      },
      "source": [
        "<a href=\"https://colab.research.google.com/github/junyoung44/DL-fromScratch/blob/main/02_Perceptron/XOR_gate.ipynb\" target=\"_parent\"><img src=\"https://colab.research.google.com/assets/colab-badge.svg\" alt=\"Open In Colab\"/></a>"
      ]
    },
    {
      "cell_type": "code",
      "metadata": {
        "id": "6rEEqyQH3z3W"
      },
      "source": [
        "import numpy as np"
      ],
      "execution_count": null,
      "outputs": []
    },
    {
      "cell_type": "code",
      "metadata": {
        "id": "A4vXiBI6PDnF"
      },
      "source": [
        "def AND(x1,x2):\r\n",
        "    x=np.array([x1,x2])\r\n",
        "    w=np.array([1,1])\r\n",
        "    b=-1\r\n",
        "    y=np.sum(w*x)+b\r\n",
        "    return 1 if y>0 else 0\r\n",
        "\r\n",
        "def NAND(x1,x2):\r\n",
        "    x=np.array([x1,x2])\r\n",
        "    w=np.array([-1,-1])\r\n",
        "    b=2\r\n",
        "    y=np.sum(w*x)+b\r\n",
        "    return 1 if y>0 else 0\r\n",
        "\r\n",
        "def OR(x1,x2):\r\n",
        "    x=np.array([x1,x2])\r\n",
        "    w=np.array([1,1])\r\n",
        "    b=0\r\n",
        "    y=np.sum(w*x)+b\r\n",
        "    return 1 if y>0 else 0"
      ],
      "execution_count": null,
      "outputs": []
    },
    {
      "cell_type": "code",
      "metadata": {
        "id": "OiOvhfY_QFeH"
      },
      "source": [
        "def XOR(x1, x2):\r\n",
        "    return AND(NAND(x1,x2),OR(x1,x2))"
      ],
      "execution_count": null,
      "outputs": []
    },
    {
      "cell_type": "code",
      "metadata": {
        "id": "aodEtcwUkFbO"
      },
      "source": [
        "print(XOR(0,0))\r\n",
        "print(XOR(0,1))\r\n",
        "print(XOR(1,0))\r\n",
        "print(XOR(1,1))"
      ],
      "execution_count": null,
      "outputs": []
    }
  ]
}