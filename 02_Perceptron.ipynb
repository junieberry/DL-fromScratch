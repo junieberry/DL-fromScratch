{
  "nbformat": 4,
  "nbformat_minor": 0,
  "metadata": {
    "colab": {
      "name": "02_Perceptron",
      "provenance": [],
      "authorship_tag": "ABX9TyPsCCBfZf2hec9YLeLJ7C1v",
      "include_colab_link": true
    },
    "kernelspec": {
      "name": "python3",
      "display_name": "Python 3"
    },
    "language_info": {
      "name": "python"
    }
  },
  "cells": [
    {
      "cell_type": "markdown",
      "metadata": {
        "id": "view-in-github",
        "colab_type": "text"
      },
      "source": [
        "<a href=\"https://colab.research.google.com/github/junyoung44/DL-fromScratch/blob/main/02_Perceptron.ipynb\" target=\"_parent\"><img src=\"https://colab.research.google.com/assets/colab-badge.svg\" alt=\"Open In Colab\"/></a>"
      ]
    },
    {
      "cell_type": "code",
      "metadata": {
        "id": "qqThjZ6p9lnw"
      },
      "source": [
        "import numpy as np\n",
        "\n",
        "def print_gate(gate):\n",
        "  print(gate(0,0))\n",
        "  print(gate(0,1))\n",
        "  print(gate(1,0))\n",
        "  print(gate(1,1))"
      ],
      "execution_count": 2,
      "outputs": []
    },
    {
      "cell_type": "markdown",
      "metadata": {
        "id": "GmgQak5G9nOy"
      },
      "source": [
        "# 2장 퍼셉트론\n",
        "---\n",
        "\n",
        "## 퍼셉트론\n",
        "- 퍼셉트론은 다수의 신호를 입력으로 받아 하나의 신호를 출력한다.\n",
        "![01. 퍼셉트론 - Perceptron](https://img1.daumcdn.net/thumb/R800x0/?scode=mtistory2&fname=https%3A%2F%2Ft1.daumcdn.net%2Fcfile%2Ftistory%2F99BDCE4D5B98A1022C)\n",
        "- 입력 신호가 뉴런에 보내질 때는 각각 고유한 가중치가 곱해지는데, 이때 뉴런에서 보내온 신호의 총합이 정해진 한계를 넘어설 때만 1을 출력한다.\n",
        "\n",
        "- **가중치**는 각 입력 신호가 결과에 미치는 영향력을 의미한다.\n",
        "\n",
        "\n",
        "### 1. AND gate"
      ]
    },
    {
      "cell_type": "code",
      "metadata": {
        "colab": {
          "base_uri": "https://localhost:8080/"
        },
        "id": "XWXDMYYb-Der",
        "outputId": "3d41c653-43ee-4217-c1f2-ca14828fe384"
      },
      "source": [
        "\n",
        "def AND(x1,x2):\n",
        "    x=np.array([x1,x2])\n",
        "    w=np.array([1,1])\n",
        "    b=-1\n",
        "    y=np.sum(w*x)+b\n",
        "    return 1 if y>0 else 0\n",
        "\n",
        "print_gate(AND)"
      ],
      "execution_count": 3,
      "outputs": [
        {
          "output_type": "stream",
          "text": [
            "0\n",
            "0\n",
            "0\n",
            "1\n"
          ],
          "name": "stdout"
        }
      ]
    },
    {
      "cell_type": "markdown",
      "metadata": {
        "id": "HaZSf4rk-srw"
      },
      "source": [
        "### 2. OR gate"
      ]
    },
    {
      "cell_type": "code",
      "metadata": {
        "colab": {
          "base_uri": "https://localhost:8080/"
        },
        "id": "mSS6DiWe-uqa",
        "outputId": "49a6e9c8-b8a1-4fb3-dd19-71ff202c5304"
      },
      "source": [
        "def OR(x1,x2):\n",
        "    x=np.array([x1,x2])\n",
        "    w=np.array([1,1])\n",
        "    b=0\n",
        "    y=np.sum(w*x)+b\n",
        "    return 1 if y>0 else 0\n",
        "\n",
        "print_gate(OR)"
      ],
      "execution_count": 4,
      "outputs": [
        {
          "output_type": "stream",
          "text": [
            "0\n",
            "1\n",
            "1\n",
            "1\n"
          ],
          "name": "stdout"
        }
      ]
    },
    {
      "cell_type": "markdown",
      "metadata": {
        "id": "22uBANTf-zrK"
      },
      "source": [
        "### 3. NAND gate"
      ]
    },
    {
      "cell_type": "code",
      "metadata": {
        "colab": {
          "base_uri": "https://localhost:8080/"
        },
        "id": "09dvfwsq-1ti",
        "outputId": "3d307ad0-4b13-446d-de1f-bd72acb6fea6"
      },
      "source": [
        "def NAND(x1,x2):\n",
        "    x=np.array([x1,x2])\n",
        "    w=np.array([-1,-1])\n",
        "    b=2\n",
        "    y=np.sum(w*x)+b\n",
        "    return 1 if y>0 else 0\n",
        "  \n",
        "print_gate(NAND)"
      ],
      "execution_count": 6,
      "outputs": [
        {
          "output_type": "stream",
          "text": [
            "1\n",
            "1\n",
            "1\n",
            "0\n"
          ],
          "name": "stdout"
        }
      ]
    },
    {
      "cell_type": "markdown",
      "metadata": {
        "id": "bHsQgafn99Kk"
      },
      "source": [
        "## 다층 퍼셉트론\n",
        "단층 퍼셉트론으로는 비선형 영역을 분리할 수 없다. 이를 해결하기 위해 퍼셉트론의 층을 쌓아 **다층 퍼셉트론**으로 구현한다.\n",
        "\n",
        "### XOR gate"
      ]
    },
    {
      "cell_type": "code",
      "metadata": {
        "colab": {
          "base_uri": "https://localhost:8080/"
        },
        "id": "8colM96Z_Ewe",
        "outputId": "88bbe22b-092a-432d-f45b-1a43a3dfba14"
      },
      "source": [
        "def XOR(x1, x2):\n",
        "    return AND(NAND(x1,x2),OR(x1,x2))\n",
        "\n",
        "print_gate(XOR)"
      ],
      "execution_count": 7,
      "outputs": [
        {
          "output_type": "stream",
          "text": [
            "0\n",
            "1\n",
            "1\n",
            "0\n"
          ],
          "name": "stdout"
        }
      ]
    }
  ]
}