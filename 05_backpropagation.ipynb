{
  "nbformat": 4,
  "nbformat_minor": 0,
  "metadata": {
    "colab": {
      "name": "05_backpropagation.ipynb",
      "provenance": [],
      "authorship_tag": "ABX9TyOh2ve1OmSAq9C3tso5uuVl",
      "include_colab_link": true
    },
    "kernelspec": {
      "name": "python3",
      "display_name": "Python 3"
    },
    "language_info": {
      "name": "python"
    }
  },
  "cells": [
    {
      "cell_type": "markdown",
      "metadata": {
        "id": "view-in-github",
        "colab_type": "text"
      },
      "source": [
        "<a href=\"https://colab.research.google.com/github/junieberry/DL-fromScratch/blob/main/05_backpropagation.ipynb\" target=\"_parent\"><img src=\"https://colab.research.google.com/assets/colab-badge.svg\" alt=\"Open In Colab\"/></a>"
      ]
    },
    {
      "cell_type": "code",
      "metadata": {
        "id": "exbVlYRjuS5h"
      },
      "source": [
        "import numpy as np"
      ],
      "execution_count": 2,
      "outputs": []
    },
    {
      "cell_type": "code",
      "metadata": {
        "colab": {
          "base_uri": "https://localhost:8080/"
        },
        "id": "8YU6pTIfv54C",
        "outputId": "d378c81b-b53d-48b9-fb28-1e13ee8ca899"
      },
      "source": [
        "x=np.array(([2,9], [1,5],[3,6]), dtype=float)\n",
        "y=np.array(([92],[86],[89]), dtype=float)\n",
        "\n",
        "x=x/np.amax(x, axis=0)\n",
        "y=y/100\n",
        "\n",
        "print(x)\n",
        "print(y)"
      ],
      "execution_count": 3,
      "outputs": [
        {
          "output_type": "stream",
          "text": [
            "[[0.66666667 1.        ]\n",
            " [0.33333333 0.55555556]\n",
            " [1.         0.66666667]]\n",
            "[[0.92]\n",
            " [0.86]\n",
            " [0.89]]\n"
          ],
          "name": "stdout"
        }
      ]
    },
    {
      "cell_type": "code",
      "metadata": {
        "id": "T_SEJWfuwxw-"
      },
      "source": [
        "class NN(object):\n",
        "  def __init__(self):\n",
        "    self.inputSize=2\n",
        "    self.outputSize=1\n",
        "    self.hiddenSize=3\n",
        "\n",
        "    self.W1=np.random.randn(self.inputSize, self.hiddenSize)\n",
        "    self.W2=np.random.randn(self.hiddenSize, self.outputSize)\n",
        "\n",
        "  def Forward(self,x):\n",
        "    self.z=np.dot(x, self.W1)\n",
        "    self.z2=self.sigmoid(self.z)\n",
        "    self.z3=np.dot(self.z2, self.W2)\n",
        "    output=self.sigmoid(self.z2)\n",
        "    return output\n",
        "  \n",
        "  def sigmoid(self, s, deriv=False):\n",
        "    if(deriv==True):\n",
        "      return s*(1-s)\n",
        "    return 1/(1+np.exp(-s))\n",
        "  \n",
        "  def backward(self, x, y, output):\n",
        "    self.output_error= y-output\n",
        "    self.output_delta=self.output_error*self.sigmoid(output, deriv=True)\n",
        "    self.z2_error=self.output_delta.dot(self.W2.T)\n",
        "    self.z2_delta=self.z2_error*self.sigmoid(self.z2, deriv=True)\n",
        "\n",
        "    self.W1+=x.T.dot(self.z2_delta)\n",
        "    self.W2+=self.z2.T.dot(self.output_delta)\n",
        "\n",
        "  def train(self, x, y):\n",
        "    output=self.Forward(x)\n",
        "    self.backward(x, y, output)"
      ],
      "execution_count": 4,
      "outputs": []
    },
    {
      "cell_type": "code",
      "metadata": {
        "colab": {
          "base_uri": "https://localhost:8080/"
        },
        "id": "-XgpA16bzVsd",
        "outputId": "c9d1a128-cd0d-4e68-f03e-5e9857b51e96"
      },
      "source": [
        "nn= NN()\n",
        "\n",
        "for i in range(1000):\n",
        "  if(i%100==0):\n",
        "    print(\"\\nnumber : \",i)\n",
        "    print(\"\\nW1 : \",str(nn.W1))\n",
        "    print(\"\\nW2 : \",str(nn.W2))\n",
        "    print(\"\\nLoss : \"),str(np.mean(np.square(y-nn.Forward(x))))\n",
        "\n",
        "print(\"\\nW1 : \",str(nn.W1))\n",
        "print(\"\\nW2 : \",str(nn.W2))\n",
        "print(\"\\nLoss : \"),str(np.mean(np.square(y-nn.Forward(x))))"
      ],
      "execution_count": null,
      "outputs": [
        {
          "output_type": "stream",
          "text": [
            "\n",
            "number :  0\n",
            "\n",
            "W1 :  [[-0.33242703  0.22986418 -1.99948608]\n",
            " [ 0.99033998 -0.66224228 -0.41191458]]\n",
            "\n",
            "W2 :  [[-1.3708657 ]\n",
            " [-0.91702882]\n",
            " [-0.28632978]]\n",
            "\n",
            "Loss : \n",
            "\n",
            "number :  100\n",
            "\n",
            "W1 :  [[-0.33242703  0.22986418 -1.99948608]\n",
            " [ 0.99033998 -0.66224228 -0.41191458]]\n",
            "\n",
            "W2 :  [[-1.3708657 ]\n",
            " [-0.91702882]\n",
            " [-0.28632978]]\n",
            "\n",
            "Loss : \n",
            "\n",
            "number :  200\n",
            "\n",
            "W1 :  [[-0.33242703  0.22986418 -1.99948608]\n",
            " [ 0.99033998 -0.66224228 -0.41191458]]\n",
            "\n",
            "W2 :  [[-1.3708657 ]\n",
            " [-0.91702882]\n",
            " [-0.28632978]]\n",
            "\n",
            "Loss : \n",
            "\n",
            "number :  300\n",
            "\n",
            "W1 :  [[-0.33242703  0.22986418 -1.99948608]\n",
            " [ 0.99033998 -0.66224228 -0.41191458]]\n",
            "\n",
            "W2 :  [[-1.3708657 ]\n",
            " [-0.91702882]\n",
            " [-0.28632978]]\n",
            "\n",
            "Loss : \n",
            "\n",
            "number :  400\n",
            "\n",
            "W1 :  [[-0.33242703  0.22986418 -1.99948608]\n",
            " [ 0.99033998 -0.66224228 -0.41191458]]\n",
            "\n",
            "W2 :  [[-1.3708657 ]\n",
            " [-0.91702882]\n",
            " [-0.28632978]]\n",
            "\n",
            "Loss : \n",
            "\n",
            "number :  500\n",
            "\n",
            "W1 :  [[-0.33242703  0.22986418 -1.99948608]\n",
            " [ 0.99033998 -0.66224228 -0.41191458]]\n",
            "\n",
            "W2 :  [[-1.3708657 ]\n",
            " [-0.91702882]\n",
            " [-0.28632978]]\n",
            "\n",
            "Loss : \n",
            "\n",
            "number :  600\n",
            "\n",
            "W1 :  [[-0.33242703  0.22986418 -1.99948608]\n",
            " [ 0.99033998 -0.66224228 -0.41191458]]\n",
            "\n",
            "W2 :  [[-1.3708657 ]\n",
            " [-0.91702882]\n",
            " [-0.28632978]]\n",
            "\n",
            "Loss : \n",
            "\n",
            "number :  700\n",
            "\n",
            "W1 :  [[-0.33242703  0.22986418 -1.99948608]\n",
            " [ 0.99033998 -0.66224228 -0.41191458]]\n",
            "\n",
            "W2 :  [[-1.3708657 ]\n",
            " [-0.91702882]\n",
            " [-0.28632978]]\n",
            "\n",
            "Loss : \n",
            "\n",
            "number :  800\n",
            "\n",
            "W1 :  [[-0.33242703  0.22986418 -1.99948608]\n",
            " [ 0.99033998 -0.66224228 -0.41191458]]\n",
            "\n",
            "W2 :  [[-1.3708657 ]\n",
            " [-0.91702882]\n",
            " [-0.28632978]]\n",
            "\n",
            "Loss : \n",
            "\n",
            "number :  900\n",
            "\n",
            "W1 :  [[-0.33242703  0.22986418 -1.99948608]\n",
            " [ 0.99033998 -0.66224228 -0.41191458]]\n",
            "\n",
            "W2 :  [[-1.3708657 ]\n",
            " [-0.91702882]\n",
            " [-0.28632978]]\n",
            "\n",
            "Loss : \n",
            "\n",
            "W1 :  [[-0.33242703  0.22986418 -1.99948608]\n",
            " [ 0.99033998 -0.66224228 -0.41191458]]\n",
            "\n",
            "W2 :  [[-1.3708657 ]\n",
            " [-0.91702882]\n",
            " [-0.28632978]]\n",
            "\n",
            "Loss : \n"
          ],
          "name": "stdout"
        },
        {
          "output_type": "execute_result",
          "data": {
            "text/plain": [
              "(None, '0.08740456873158577')"
            ]
          },
          "metadata": {
            "tags": []
          },
          "execution_count": 22
        }
      ]
    },
    {
      "cell_type": "code",
      "metadata": {
        "id": "ieVcJEmBdSx4"
      },
      "source": [
        "class MulLayer :\n",
        "  def __init__(self):\n",
        "    self.x=None\n",
        "    self.y=None\n",
        "  \n",
        "  def forward(self, x, y):\n",
        "    self.x=x\n",
        "    self.y=y\n",
        "    out=x*y\n",
        "    return out\n",
        "  \n",
        "  def backward(self, dout):\n",
        "    dx = dout * self.y\n",
        "    dy = dout * self.x\n",
        "    return dx, dy\n"
      ],
      "execution_count": 10,
      "outputs": []
    },
    {
      "cell_type": "code",
      "metadata": {
        "id": "slMdfyjrdpfO"
      },
      "source": [
        "class AddLayer:\n",
        "  def __init__(self):\n",
        "    self.x=None\n",
        "    self.y=None\n",
        "\n",
        "  def forward(self, x, y):\n",
        "    self.x=x\n",
        "    self.y=y\n",
        "    out=x+y\n",
        "    return out\n",
        "  \n",
        "  def backward(self, dout):\n",
        "    dx= dout*1\n",
        "    dy=dout*1\n",
        "\n",
        "    return dx, dy\n",
        "    "
      ],
      "execution_count": 5,
      "outputs": []
    },
    {
      "cell_type": "code",
      "metadata": {
        "id": "x5bet34ReL2K"
      },
      "source": [
        "apple=100\n",
        "apple_num=2\n",
        "orange=150\n",
        "orange_num=3\n",
        "tax=1.1\n",
        "\n",
        "mul_apple_layer=MulLayer\n",
        "mul_orange_layer=AddLayer\n",
        "add_apple_orange_layer=AddLayer\n",
        "mul_tax_layer=MulLayer"
      ],
      "execution_count": 7,
      "outputs": []
    },
    {
      "cell_type": "code",
      "metadata": {
        "id": "0VAGf369fKmp"
      },
      "source": [
        "#역전파\n",
        "\n",
        "dprice=1\n",
        "dall_price, dtax=mul_tax_layer.backward(dprice)\n",
        "dapple_price, dorange_price=add_apple_orange_layer.backward(dall_price)\n",
        "dorange, dorange_num=mul_orange_layer.backward(dorange_price)\n",
        "dapple, dapple_num=mul_apple_layer.backward(dapple_price)\n",
        "\n",
        "print(price)\n",
        "print(dapple, dorange)"
      ],
      "execution_count": null,
      "outputs": []
    }
  ]
}