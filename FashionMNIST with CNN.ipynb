{
  "nbformat": 4,
  "nbformat_minor": 0,
  "metadata": {
    "colab": {
      "name": "Untitled1.ipynb",
      "provenance": [],
      "collapsed_sections": [],
      "authorship_tag": "ABX9TyPTSgAOQT7qo9HMgczPYYh8",
      "include_colab_link": true
    },
    "kernelspec": {
      "name": "python3",
      "display_name": "Python 3"
    },
    "language_info": {
      "name": "python"
    }
  },
  "cells": [
    {
      "cell_type": "markdown",
      "metadata": {
        "id": "view-in-github",
        "colab_type": "text"
      },
      "source": [
        "<a href=\"https://colab.research.google.com/github/junieberry/DL-fromScratch/blob/main/FashionMNIST%20with%20CNN.ipynb\" target=\"_parent\"><img src=\"https://colab.research.google.com/assets/colab-badge.svg\" alt=\"Open In Colab\"/></a>"
      ]
    },
    {
      "cell_type": "code",
      "metadata": {
        "colab": {
          "base_uri": "https://localhost:8080/"
        },
        "id": "mYaHddtxPQ6M",
        "outputId": "23a1d572-bfe4-421c-bfba-5ecf1ba748b6"
      },
      "source": [
        "from google.colab import drive\n",
        "drive.mount('/content/drive')"
      ],
      "execution_count": null,
      "outputs": [
        {
          "output_type": "stream",
          "text": [
            "Mounted at /content/drive\n"
          ],
          "name": "stdout"
        }
      ]
    },
    {
      "cell_type": "code",
      "metadata": {
        "colab": {
          "base_uri": "https://localhost:8080/"
        },
        "id": "vwswpdyb1Yhn",
        "outputId": "b2ecd1d3-da42-4d63-9492-9077a1e3a4c6"
      },
      "source": [
        "cd \"/content/drive/My Drive/밑시딥\""
      ],
      "execution_count": null,
      "outputs": [
        {
          "output_type": "stream",
          "text": [
            "/content/drive/My Drive/밑시딥\n"
          ],
          "name": "stdout"
        }
      ]
    },
    {
      "cell_type": "code",
      "metadata": {
        "colab": {
          "base_uri": "https://localhost:8080/"
        },
        "id": "IlFIuF511cY1",
        "outputId": "14311743-7e48-422c-881b-1fadcf309ec1"
      },
      "source": [
        "!git clone https://github.com/WegraLee/deep-learning-from-scratch.git"
      ],
      "execution_count": null,
      "outputs": [
        {
          "output_type": "stream",
          "text": [
            "Cloning into 'deep-learning-from-scratch'...\n",
            "remote: Enumerating objects: 826, done.\u001b[K\n",
            "remote: Total 826 (delta 0), reused 0 (delta 0), pack-reused 826\u001b[K\n",
            "Receiving objects: 100% (826/826), 52.21 MiB | 16.61 MiB/s, done.\n",
            "Resolving deltas: 100% (477/477), done.\n"
          ],
          "name": "stdout"
        }
      ]
    },
    {
      "cell_type": "code",
      "metadata": {
        "id": "_fayNeDe1qgX"
      },
      "source": [
        "import tensorflow as tf\n",
        "\n",
        "import numpy as np\n",
        "import matplotlib.pyplot as plt\n",
        "\n",
        "import sys, os\n",
        "sys.path.append(\"/content/drive/MyDrive/밑시딥/deep-learning-from-scratch\")\n",
        "from common.layers import *"
      ],
      "execution_count": null,
      "outputs": []
    },
    {
      "cell_type": "code",
      "metadata": {
        "colab": {
          "base_uri": "https://localhost:8080/"
        },
        "id": "JRQs_FKv5jMl",
        "outputId": "3d2a8ed3-1a0f-47a3-ab2f-bb2957892879"
      },
      "source": [
        "fashion_mnist = tf.keras.datasets.fashion_mnist\n",
        "(train_images, train_labels), (test_images, test_labels) = fashion_mnist.load_data()\n",
        "train_images, test_images = train_images / 255.0, test_images / 255.0\n",
        "\n",
        "num=10\n",
        "\n",
        "test_labels=np.eye(num)[np.array(list(test_labels)).reshape(-1)]\n",
        "train_labels=np.eye(num)[np.array(list(train_labels)).reshape(-1)]"
      ],
      "execution_count": null,
      "outputs": [
        {
          "output_type": "stream",
          "text": [
            "Downloading data from https://storage.googleapis.com/tensorflow/tf-keras-datasets/train-labels-idx1-ubyte.gz\n",
            "32768/29515 [=================================] - 0s 0us/step\n",
            "Downloading data from https://storage.googleapis.com/tensorflow/tf-keras-datasets/train-images-idx3-ubyte.gz\n",
            "26427392/26421880 [==============================] - 0s 0us/step\n",
            "Downloading data from https://storage.googleapis.com/tensorflow/tf-keras-datasets/t10k-labels-idx1-ubyte.gz\n",
            "8192/5148 [===============================================] - 0s 0us/step\n",
            "Downloading data from https://storage.googleapis.com/tensorflow/tf-keras-datasets/t10k-images-idx3-ubyte.gz\n",
            "4423680/4422102 [==============================] - 0s 0us/step\n",
            "[9 2 1 ... 8 1 5]\n"
          ],
          "name": "stdout"
        }
      ]
    },
    {
      "cell_type": "code",
      "metadata": {
        "colab": {
          "base_uri": "https://localhost:8080/"
        },
        "id": "UP9hrWDu1zIP",
        "outputId": "da1753c9-d387-4f36-9d3a-30d0dde59555"
      },
      "source": [
        "x1=np.random.rand(1,3,7,7)\n",
        "col1=im2col(x1, 5, 5, stride=1, pad=0)\n",
        "print(col1.shape)\n",
        "\n",
        "x2=np.random.rand(10,3,7,7)\n",
        "col2=im2col(x2, 5, 5, stride=1, pad=0)\n",
        "print(col2.shape)"
      ],
      "execution_count": null,
      "outputs": [
        {
          "output_type": "stream",
          "text": [
            "(9, 75)\n",
            "(90, 75)\n"
          ],
          "name": "stdout"
        }
      ]
    },
    {
      "cell_type": "code",
      "metadata": {
        "id": "V3MIar_p2CB4"
      },
      "source": [
        "class Convolution:\n",
        "    def __init__(self, W, b, stride=1, pad=0):\n",
        "        self.W=W\n",
        "        self.b=b\n",
        "        self.stride=stride\n",
        "        self.pad=pad\n",
        "    \n",
        "    def forward(self, x):\n",
        "        FN, C ,FH, FW=self.W.shape\n",
        "        N,C,H,W=x.shape\n",
        "        out_h=int(1+(H+2*self.pad-FH)/self.stride)\n",
        "        out_w=int(1+(W+2*self.pad-FW)/self.stride)\n",
        "        \n",
        "        col=im2col(x, FH, FW, self.stride, self.pad)\n",
        "        col_W=self.W.reshape(FN,-1).T ##filter\n",
        "        out=np.dot(col, col_W)+self.b\n",
        "        \n",
        "        out=out.reshape(N, out_h, out_w, -1).transpose(0,3,1,2)\n",
        "        return out\n",
        "        "
      ],
      "execution_count": 44,
      "outputs": []
    },
    {
      "cell_type": "code",
      "metadata": {
        "id": "B76gx3NS2bjd"
      },
      "source": [
        "class Pooling:\n",
        "  def __init__(self, pool_h, pool_W, stride=1, pad=0):\n",
        "    self.pool_h=pool_h\n",
        "    self.pool_w=pool_W\n",
        "    self.stride=stride\n",
        "    self.pad=pad\n",
        "  \n",
        "  def forward(self,x):\n",
        "    N, C, H, W=x.shape\n",
        "    out_h=int(1+(H-self.pool_h)/self.stride)\n",
        "    out_w=int(1+(W-self.pool_w)/self.stride)\n",
        "\n",
        "    ##전개\n",
        "    col=im2col(x, self.pool_h, self.pool_w,self.stride, self.pad)\n",
        "    col=col.reshape(-1, self.pool_h, self.pool_w)\n",
        "\n",
        "    out=np.max(col, axis=1)\n",
        "\n",
        "    out=out.reshape(N, out_h, out_w, C).transpose(0,3,1,2)\n",
        "\n",
        "    return out"
      ],
      "execution_count": 50,
      "outputs": []
    },
    {
      "cell_type": "code",
      "metadata": {
        "id": "JxlLYxwW4XIQ"
      },
      "source": [
        "from collections import OrderedDict\n",
        "\n",
        "class Convnet:\n",
        "\n",
        "  def __init__(self, input_dim=(1,28,28),\n",
        "               conv_param={'filter_num':30, 'filter_size':5,\n",
        "                           'pad':0,'stride':1},\n",
        "               hidden_size=100, output_size=10, weight_init=0.01):\n",
        "    \n",
        "    filter_num=conv_param['filter_num']\n",
        "    filter_size=conv_param['filter_size']\n",
        "    filter_pad=conv_param['pad']\n",
        "    filter_stride=conv_param['stride']\n",
        "    intput_size=input_dim[1]\n",
        "    conv_output_size=(intput_size-filter_size+2*filter_pad)/filter_stride+1\n",
        "    pool_output_size=int(filter_num*(conv_output_size/2)*(conv_output_size/2))\n",
        "\n",
        "    self.params={}\n",
        "    self.params['W1']=weight_init*np.random.rand(filter_num, input_dim[0],filter_size,filter_size)\n",
        "    self.params['b1']=np.zeros(filter_num)\n",
        "    self.params['W2']=weight_init*np.random.rand(pool_output_size,hidden_size)\n",
        "    self.params['b2']=np.zeros(hidden_size)\n",
        "    self.params['W3']=weight_init*np.random.rand(hidden_size, output_size)\n",
        "    self.params['b3']=np.zeros(output_size)\n",
        "\n",
        "    self.layers=OrderedDict()\n",
        "    self.layers['Conv1']=Convolution(self.params['W1'], self.params['b1'],conv_param['stride'],conv_param['pad'])\n",
        "    self.layers['Relu1']=Relu()\n",
        "    self.layers['Pool1']=Pooling(pool_h=2, pool_W=2, stride=2)\n",
        "    self.layers['Affine1']=Affine(self.params['W2'], self.params['b2'])\n",
        "    self.layers['Relu2']=Relu()\n",
        "    self.layers['Affine2']=Affine(self.params['W3'], self.params['b3'])\n",
        "\n",
        "    self.last_layer=SoftmaxWithLoss()\n",
        "\n",
        "  def predict(self,x):\n",
        "    for layer in self.layers.values():\n",
        "      x=layer.forward(x)\n",
        "    \n",
        "    return x\n",
        "  \n",
        "  def loss(self, x, t):\n",
        "    y=self.predict(x)\n",
        "    return self.last_layer.forward(y,t)\n",
        "  \n",
        "  def gradient(self, x, t):\n",
        "    self.loss(x,t)\n",
        "\n",
        "    print(x.shape)\n",
        "    dout=1\n",
        "    dout=self.last_layer.backward(dout)\n",
        "\n",
        "    layers=list(self.layers.values())\n",
        "    layers.reverse()\n",
        "    for layer in layers:\n",
        "      dout=layer.backward(dout)\n",
        "    \n",
        "    grads={}\n",
        "    grads['W1'] = self.layers['Conv1'].dW # self.dW = np.dot(self.x.T, dout)\n",
        "    grads['b1'] = self.layers['Conv1'].db\n",
        "    grads['W2'] = self.layers['Affine1'].dW\n",
        "    grads['b2'] = self.layers['Affine1'].db\n",
        "    grads['W3'] = self.layers['Affine2'].dW\n",
        "    grads['b3'] = self.layers['Affine2'].db\n",
        "\n",
        "    return grads"
      ],
      "execution_count": 38,
      "outputs": []
    },
    {
      "cell_type": "code",
      "metadata": {
        "id": "BPZsAcrL_DCG"
      },
      "source": [
        "iters=10000\n",
        "train_size=train_images.shape[0]\n",
        "batch_size=100\n",
        "lr=0.01\n",
        "iter_per_epoch = max(train_size / batch_size, 1)\n",
        "\n",
        "train_loss_list = []\n",
        "train_acc_list = []\n",
        "test_acc_list = []"
      ],
      "execution_count": 34,
      "outputs": []
    },
    {
      "cell_type": "code",
      "metadata": {
        "colab": {
          "base_uri": "https://localhost:8080/",
          "height": 386
        },
        "id": "ctxWau3x_H2d",
        "outputId": "53fb8131-c490-4a90-d0c0-df9e58106982"
      },
      "source": [
        "fashionmodel=Convnet()\n",
        "temp=10\n",
        "for i in range(temp):\n",
        "    batch_mask=np.random.choice(train_size, batch_size)\n",
        "    x_batch=train_images[batch_mask]\n",
        "    t_batch=train_labels[batch_mask]\n",
        "\n",
        "    x_batch=np.reshape(x_batch,(100,1,28,28))\n",
        "\n",
        "    ## gradient\n",
        "    grad_backprop=fashionmodel.gradient(x_batch, t_batch)\n",
        "    \n",
        "    ## gradient update\n",
        "    for key in ('W1','b1','W2','b2','W3','b3'):\n",
        "        fashionmodel.params[key]-=lr*grad_backprop[key]\n",
        "    \n",
        "    loss=fashionmodel.loss(x_batch, t_batch)\n",
        "    train_loss_list.append(loss)\n",
        "    \n",
        "    if i%(iter_per_epoch)==0:\n",
        "        train_acc=fashionmodel.accuracy(train_images, train_labels)\n",
        "        test_acc=fashionmodel.accuracy(test_images, test_labels)\n",
        "        train_acc_list.append(train_acc)\n",
        "        test_acc_list.append(test_acc)\n",
        "        \n",
        "        print('iters: {:4d}\\tTrain acc: {:.5f}\\tTest acc: {:.5f}\\tLoss: {:f}'.format(i,train_acc,test_acc,loss))\n",
        "    \n",
        "\n",
        "\n",
        "\n",
        "print(\"Train acc : {:.5f}\\tTest acc: {:.5f}\".format(train_acc, test_acc))\n"
      ],
      "execution_count": 51,
      "outputs": [
        {
          "output_type": "error",
          "ename": "ValueError",
          "evalue": "ignored",
          "traceback": [
            "\u001b[0;31m---------------------------------------------------------------------------\u001b[0m",
            "\u001b[0;31mValueError\u001b[0m                                Traceback (most recent call last)",
            "\u001b[0;32m<ipython-input-51-1319029cc4f7>\u001b[0m in \u001b[0;36m<module>\u001b[0;34m()\u001b[0m\n\u001b[1;32m      9\u001b[0m \u001b[0;34m\u001b[0m\u001b[0m\n\u001b[1;32m     10\u001b[0m     \u001b[0;31m## gradient\u001b[0m\u001b[0;34m\u001b[0m\u001b[0;34m\u001b[0m\u001b[0;34m\u001b[0m\u001b[0m\n\u001b[0;32m---> 11\u001b[0;31m     \u001b[0mgrad_backprop\u001b[0m\u001b[0;34m=\u001b[0m\u001b[0mfashionmodel\u001b[0m\u001b[0;34m.\u001b[0m\u001b[0mgradient\u001b[0m\u001b[0;34m(\u001b[0m\u001b[0mx_batch\u001b[0m\u001b[0;34m,\u001b[0m \u001b[0mt_batch\u001b[0m\u001b[0;34m)\u001b[0m\u001b[0;34m\u001b[0m\u001b[0;34m\u001b[0m\u001b[0m\n\u001b[0m\u001b[1;32m     12\u001b[0m \u001b[0;34m\u001b[0m\u001b[0m\n\u001b[1;32m     13\u001b[0m     \u001b[0;31m## gradient update\u001b[0m\u001b[0;34m\u001b[0m\u001b[0;34m\u001b[0m\u001b[0;34m\u001b[0m\u001b[0m\n",
            "\u001b[0;32m<ipython-input-38-67e08650762d>\u001b[0m in \u001b[0;36mgradient\u001b[0;34m(self, x, t)\u001b[0m\n\u001b[1;32m     45\u001b[0m \u001b[0;34m\u001b[0m\u001b[0m\n\u001b[1;32m     46\u001b[0m   \u001b[0;32mdef\u001b[0m \u001b[0mgradient\u001b[0m\u001b[0;34m(\u001b[0m\u001b[0mself\u001b[0m\u001b[0;34m,\u001b[0m \u001b[0mx\u001b[0m\u001b[0;34m,\u001b[0m \u001b[0mt\u001b[0m\u001b[0;34m)\u001b[0m\u001b[0;34m:\u001b[0m\u001b[0;34m\u001b[0m\u001b[0;34m\u001b[0m\u001b[0m\n\u001b[0;32m---> 47\u001b[0;31m     \u001b[0mself\u001b[0m\u001b[0;34m.\u001b[0m\u001b[0mloss\u001b[0m\u001b[0;34m(\u001b[0m\u001b[0mx\u001b[0m\u001b[0;34m,\u001b[0m\u001b[0mt\u001b[0m\u001b[0;34m)\u001b[0m\u001b[0;34m\u001b[0m\u001b[0;34m\u001b[0m\u001b[0m\n\u001b[0m\u001b[1;32m     48\u001b[0m \u001b[0;34m\u001b[0m\u001b[0m\n\u001b[1;32m     49\u001b[0m     \u001b[0mprint\u001b[0m\u001b[0;34m(\u001b[0m\u001b[0mx\u001b[0m\u001b[0;34m.\u001b[0m\u001b[0mshape\u001b[0m\u001b[0;34m)\u001b[0m\u001b[0;34m\u001b[0m\u001b[0;34m\u001b[0m\u001b[0m\n",
            "\u001b[0;32m<ipython-input-38-67e08650762d>\u001b[0m in \u001b[0;36mloss\u001b[0;34m(self, x, t)\u001b[0m\n\u001b[1;32m     41\u001b[0m \u001b[0;34m\u001b[0m\u001b[0m\n\u001b[1;32m     42\u001b[0m   \u001b[0;32mdef\u001b[0m \u001b[0mloss\u001b[0m\u001b[0;34m(\u001b[0m\u001b[0mself\u001b[0m\u001b[0;34m,\u001b[0m \u001b[0mx\u001b[0m\u001b[0;34m,\u001b[0m \u001b[0mt\u001b[0m\u001b[0;34m)\u001b[0m\u001b[0;34m:\u001b[0m\u001b[0;34m\u001b[0m\u001b[0;34m\u001b[0m\u001b[0m\n\u001b[0;32m---> 43\u001b[0;31m     \u001b[0my\u001b[0m\u001b[0;34m=\u001b[0m\u001b[0mself\u001b[0m\u001b[0;34m.\u001b[0m\u001b[0mpredict\u001b[0m\u001b[0;34m(\u001b[0m\u001b[0mx\u001b[0m\u001b[0;34m)\u001b[0m\u001b[0;34m\u001b[0m\u001b[0;34m\u001b[0m\u001b[0m\n\u001b[0m\u001b[1;32m     44\u001b[0m     \u001b[0;32mreturn\u001b[0m \u001b[0mself\u001b[0m\u001b[0;34m.\u001b[0m\u001b[0mlast_layer\u001b[0m\u001b[0;34m.\u001b[0m\u001b[0mforward\u001b[0m\u001b[0;34m(\u001b[0m\u001b[0my\u001b[0m\u001b[0;34m,\u001b[0m\u001b[0mt\u001b[0m\u001b[0;34m)\u001b[0m\u001b[0;34m\u001b[0m\u001b[0;34m\u001b[0m\u001b[0m\n\u001b[1;32m     45\u001b[0m \u001b[0;34m\u001b[0m\u001b[0m\n",
            "\u001b[0;32m<ipython-input-38-67e08650762d>\u001b[0m in \u001b[0;36mpredict\u001b[0;34m(self, x)\u001b[0m\n\u001b[1;32m     36\u001b[0m   \u001b[0;32mdef\u001b[0m \u001b[0mpredict\u001b[0m\u001b[0;34m(\u001b[0m\u001b[0mself\u001b[0m\u001b[0;34m,\u001b[0m\u001b[0mx\u001b[0m\u001b[0;34m)\u001b[0m\u001b[0;34m:\u001b[0m\u001b[0;34m\u001b[0m\u001b[0;34m\u001b[0m\u001b[0m\n\u001b[1;32m     37\u001b[0m     \u001b[0;32mfor\u001b[0m \u001b[0mlayer\u001b[0m \u001b[0;32min\u001b[0m \u001b[0mself\u001b[0m\u001b[0;34m.\u001b[0m\u001b[0mlayers\u001b[0m\u001b[0;34m.\u001b[0m\u001b[0mvalues\u001b[0m\u001b[0;34m(\u001b[0m\u001b[0;34m)\u001b[0m\u001b[0;34m:\u001b[0m\u001b[0;34m\u001b[0m\u001b[0;34m\u001b[0m\u001b[0m\n\u001b[0;32m---> 38\u001b[0;31m       \u001b[0mx\u001b[0m\u001b[0;34m=\u001b[0m\u001b[0mlayer\u001b[0m\u001b[0;34m.\u001b[0m\u001b[0mforward\u001b[0m\u001b[0;34m(\u001b[0m\u001b[0mx\u001b[0m\u001b[0;34m)\u001b[0m\u001b[0;34m\u001b[0m\u001b[0;34m\u001b[0m\u001b[0m\n\u001b[0m\u001b[1;32m     39\u001b[0m \u001b[0;34m\u001b[0m\u001b[0m\n\u001b[1;32m     40\u001b[0m     \u001b[0;32mreturn\u001b[0m \u001b[0mx\u001b[0m\u001b[0;34m\u001b[0m\u001b[0;34m\u001b[0m\u001b[0m\n",
            "\u001b[0;32m<ipython-input-50-1ab9eb75c4da>\u001b[0m in \u001b[0;36mforward\u001b[0;34m(self, x)\u001b[0m\n\u001b[1;32m     17\u001b[0m     \u001b[0mout\u001b[0m\u001b[0;34m=\u001b[0m\u001b[0mnp\u001b[0m\u001b[0;34m.\u001b[0m\u001b[0mmax\u001b[0m\u001b[0;34m(\u001b[0m\u001b[0mcol\u001b[0m\u001b[0;34m,\u001b[0m \u001b[0maxis\u001b[0m\u001b[0;34m=\u001b[0m\u001b[0;36m1\u001b[0m\u001b[0;34m)\u001b[0m\u001b[0;34m\u001b[0m\u001b[0;34m\u001b[0m\u001b[0m\n\u001b[1;32m     18\u001b[0m \u001b[0;34m\u001b[0m\u001b[0m\n\u001b[0;32m---> 19\u001b[0;31m     \u001b[0mout\u001b[0m\u001b[0;34m=\u001b[0m\u001b[0mout\u001b[0m\u001b[0;34m.\u001b[0m\u001b[0mreshape\u001b[0m\u001b[0;34m(\u001b[0m\u001b[0mN\u001b[0m\u001b[0;34m,\u001b[0m \u001b[0mout_h\u001b[0m\u001b[0;34m,\u001b[0m \u001b[0mout_w\u001b[0m\u001b[0;34m,\u001b[0m \u001b[0mC\u001b[0m\u001b[0;34m)\u001b[0m\u001b[0;34m.\u001b[0m\u001b[0mtranspose\u001b[0m\u001b[0;34m(\u001b[0m\u001b[0;36m0\u001b[0m\u001b[0;34m,\u001b[0m\u001b[0;36m3\u001b[0m\u001b[0;34m,\u001b[0m\u001b[0;36m1\u001b[0m\u001b[0;34m,\u001b[0m\u001b[0;36m2\u001b[0m\u001b[0;34m)\u001b[0m\u001b[0;34m\u001b[0m\u001b[0;34m\u001b[0m\u001b[0m\n\u001b[0m\u001b[1;32m     20\u001b[0m \u001b[0;34m\u001b[0m\u001b[0m\n\u001b[1;32m     21\u001b[0m     \u001b[0;32mreturn\u001b[0m \u001b[0mout\u001b[0m\u001b[0;34m\u001b[0m\u001b[0;34m\u001b[0m\u001b[0m\n",
            "\u001b[0;31mValueError\u001b[0m: cannot reshape array of size 864000 into shape (100,12,12,30)"
          ]
        }
      ]
    }
  ]
}